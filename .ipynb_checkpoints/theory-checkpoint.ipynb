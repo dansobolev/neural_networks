{
 "cells": [
  {
   "cell_type": "markdown",
   "metadata": {},
   "source": [
    "# Part 1: Artificial neural network. Theory\n",
    "#### Authors: K. Zakharov, D. Sobolev\n",
    "Please let us know if you have any comments, suggestions or questions regarding this notebook.\n",
    "\n",
    "The basic theory can be found [here](https://en.wikipedia.org/wiki/Artificial_neural_network)\n",
    "- - -\n",
    "\n",
    "## Summary\n",
    "In the first part of this tutorial ...."
   ]
  },
  {
   "cell_type": "markdown",
   "metadata": {},
   "source": [
    "<h5>Искусственные нейронные сети (Artificial neural networks, ANN)</h5> - упрощенные модели биологических нейронных сетей"
   ]
  },
  {
   "cell_type": "code",
   "execution_count": null,
   "metadata": {},
   "outputs": [],
   "source": [
    "from IPython.display import Image\n",
    "Image()"
   ]
  }
 ],
 "metadata": {
  "kernelspec": {
   "display_name": "Python 3",
   "language": "python",
   "name": "python3"
  },
  "language_info": {
   "codemirror_mode": {
    "name": "ipython",
    "version": 3
   },
   "file_extension": ".py",
   "mimetype": "text/x-python",
   "name": "python",
   "nbconvert_exporter": "python",
   "pygments_lexer": "ipython3",
   "version": "3.7.3"
  }
 },
 "nbformat": 4,
 "nbformat_minor": 2
}
